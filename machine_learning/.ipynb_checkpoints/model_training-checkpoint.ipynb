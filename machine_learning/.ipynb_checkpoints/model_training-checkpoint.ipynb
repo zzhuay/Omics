{
 "cells": [
  {
   "cell_type": "code",
   "execution_count": 1,
   "metadata": {},
   "outputs": [],
   "source": [
    "import pandas as pd\n",
    "import scipy.stats as st\n",
    "import numpy as np\n",
    "from sklearn.metrics import precision_recall_curve, auc, roc_auc_score,average_precision_score\n",
    "from sklearn.model_selection import RepeatedKFold\n",
    "import lightgbm as lgb\n",
    "import seaborn as sns\n",
    "import matplotlib.pyplot as plt\n",
    "import warnings\n",
    "warnings.filterwarnings('ignore')"
   ]
  },
  {
   "cell_type": "markdown",
   "metadata": {},
   "source": [
    "Load samples:"
   ]
  },
  {
   "cell_type": "code",
   "execution_count": 2,
   "metadata": {},
   "outputs": [],
   "source": [
    "pinfo = pd.read_csv('../../masked/patients_info.csv', index_col=0).sort_index()\n",
    "meth = pd.read_csv('../../masked/meth.csv', index_col=0)\n",
    "rna = (pd.read_csv('../../masked/rna.csv', index_col=0)+0.01).applymap(np.log2)\n",
    "ssrna = pd.read_csv('../../masked/ssrna.csv', index_col=0)\n",
    "dia = pd.read_csv('../../masked/dia.csv', index_col=0)\n",
    "pp = pd.read_csv('../../masked/pp.csv', index_col=0)\n",
    "\n",
    "df_sub = pinfo.loc[pinfo['Molecular_Subtype']=='XXX']\n",
    "\n",
    "df_sub = df_sub[['Response']+\\\n",
    "                ['Feature 0','Feature 1','Feature 2',\\\n",
    "                 'Feature 3','Feature 4','Feature 5','Feature 6']].astype(float)"
   ]
  },
  {
   "cell_type": "markdown",
   "metadata": {},
   "source": [
    "100-repeated 5-fold cross-validation:"
   ]
  },
  {
   "cell_type": "code",
   "execution_count": 3,
   "metadata": {},
   "outputs": [],
   "source": [
    "kf = RepeatedKFold(n_splits=5, n_repeats=100, random_state=1)\n",
    "\n",
    "fs = {}\n",
    "fs['clin'] = ['Feature 0','Feature 1','Feature 2',]\n",
    "fs['omics'] = ['Feature 0','Feature 1','Feature 2','Feature 3','Feature 4','Feature 5','Feature 6']\n",
    "\n",
    "aucs = {}\n",
    "for n_est in [50,100,200]:\n",
    "    for l_rate in [0.05,0.1,0.2]:\n",
    "        aucs[(n_est, l_rate)] = {}\n",
    "        for f in fs.keys():\n",
    "            aucs[(n_est, l_rate)][f] = []\n",
    "aps = {}\n",
    "for n_est in [50,100,200]:\n",
    "    for l_rate in [0.05,0.1,0.2]:\n",
    "        aps[(n_est, l_rate)] = {}\n",
    "        for f in fs.keys():\n",
    "            aps[(n_est, l_rate)][f] = []\n",
    "    \n",
    "for n_est in [50,100,200]:\n",
    "    for l_rate in [0.05,0.1,0.2]:\n",
    "        for train_index, test_index in kf.split(df_sub):\n",
    "            X_train, X_test = df_sub.drop(columns='Response').iloc[list(train_index)], df_sub.drop(columns='Response').iloc[list(test_index)]\n",
    "            y_train, y_test = df_sub['Response'].iloc[list(train_index)], df_sub['Response'].iloc[list(test_index)]\n",
    "\n",
    "            for f in fs.keys():\n",
    "                model = lgb.LGBMClassifier(random_state=1, n_estimators=n_est, learning_rate=l_rate)\n",
    "                model.fit(X_train[fs[f]], y_train)\n",
    "                X_test[f] = [i[1] for i in model.predict_proba(X_test[fs[f]])]\n",
    "                aucs[(n_est, l_rate)][f].append(roc_auc_score(y_test,X_test[f]))\n",
    "                aps[(n_est, l_rate)][f].append(average_precision_score(y_test,X_test[f]))\n",
    "                \n",
    "def best_params(res, fs):\n",
    "    best_pdict = {}\n",
    "    for i in fs:\n",
    "        best_pdict[i] = pd.DataFrame(res).applymap(sum).T.sort_values(i).index[-1]\n",
    "    return pd.concat([pd.DataFrame(res[best_pdict[i]]).melt().loc[pd.DataFrame(res[best_pdict[i]]).melt()['variable']==i] for i in fs])"
   ]
  },
  {
   "cell_type": "markdown",
   "metadata": {},
   "source": [
    "Compare clinical model and multi-omics model:"
   ]
  },
  {
   "cell_type": "code",
   "execution_count": 4,
   "metadata": {},
   "outputs": [
    {
     "name": "stdout",
     "output_type": "stream",
     "text": [
      "Best (AUC) params for clin model:\n",
      "# of trees: 200 \n",
      "Learning rate: 0.05\n",
      "\n",
      "Best (AUC) params for omics model:\n",
      "# of trees: 100 \n",
      "Learning rate: 0.05\n",
      "\n",
      "Clin vs Omics:\n",
      "\n"
     ]
    },
    {
     "data": {
      "text/plain": [
       "(0.5, 1.02)"
      ]
     },
     "execution_count": 4,
     "metadata": {},
     "output_type": "execute_result"
    },
    {
     "data": {
      "image/png": "[encoded data removed]",
      "text/plain": [
       "<Figure size 97.2x216 with 1 Axes>"
      ]
     },
     "metadata": {
      "needs_background": "light"
     },
     "output_type": "display_data"
    }
   ],
   "source": [
    "for i in fs.keys():\n",
    "    print('Best (AUC) params for '+i+' model:')\n",
    "    print('# of trees:',pd.DataFrame(aucs).applymap(sum).T[i].idxmax()[0], '\\nLearning rate:',pd.DataFrame(aucs).applymap(sum).T[i].idxmax()[1])\n",
    "    print()\n",
    "    \n",
    "f, ax = plt.subplots(figsize=[1.35,3])\n",
    "df = best_params(aucs, ['clin','omics'])\n",
    "\n",
    "print('Clin vs Omics:')\n",
    "print()\n",
    "\n",
    "sns.boxplot(df['variable'], df['value'], color='#ffffff', width=0.75)\n",
    "ax.spines['right'].set_visible(False)\n",
    "ax.spines['top'].set_visible(False)\n",
    "plt.ylim([0.5,1.02])"
   ]
  },
  {
   "cell_type": "code",
   "execution_count": 5,
   "metadata": {},
   "outputs": [
    {
     "name": "stdout",
     "output_type": "stream",
     "text": [
      "Best (AUPRC) params for clin model:\n",
      "# of trees: 200 \n",
      "Learning rate: 0.05\n",
      "\n",
      "Best (AUPRC) params for omics model:\n",
      "# of trees: 100 \n",
      "Learning rate: 0.05\n",
      "\n",
      "Clin vs Omics:\n",
      "\n"
     ]
    },
    {
     "data": {
      "text/plain": [
       "(0.5, 1.02)"
      ]
     },
     "execution_count": 5,
     "metadata": {},
     "output_type": "execute_result"
    },
    {
     "data": {
      "image/png": "[encoded data removed]",
      "text/plain": [
       "<Figure size 97.2x216 with 1 Axes>"
      ]
     },
     "metadata": {
      "needs_background": "light"
     },
     "output_type": "display_data"
    }
   ],
   "source": [
    "for i in fs.keys():\n",
    "    print('Best (AUPRC) params for '+i+' model:')\n",
    "    print('# of trees:',pd.DataFrame(aps).applymap(sum).T[i].idxmax()[0], '\\nLearning rate:',pd.DataFrame(aps).applymap(sum).T[i].idxmax()[1])\n",
    "    print()\n",
    "        \n",
    "        \n",
    "f, ax = plt.subplots(figsize=[1.35,3])\n",
    "df = best_params(aps, ['clin','omics'])\n",
    "\n",
    "print('Clin vs Omics:')\n",
    "print()\n",
    "\n",
    "sns.boxplot(df['variable'], df['value'], color='#ffffff', width=0.75)\n",
    "ax.spines['right'].set_visible(False)\n",
    "ax.spines['top'].set_visible(False)\n",
    "plt.ylim([0.5,1.02])"
   ]
  },
  {
   "cell_type": "markdown",
   "metadata": {},
   "source": [
    "Retrain the optimized model using all samples and explain the model using SHAP:"
   ]
  },
  {
   "cell_type": "code",
   "execution_count": 6,
   "metadata": {},
   "outputs": [
    {
     "data": {
      "image/png": "[encoded data removed]",
      "text/plain": [
       "<Figure size 144x144 with 2 Axes>"
      ]
     },
     "metadata": {
      "needs_background": "light"
     },
     "output_type": "display_data"
    }
   ],
   "source": [
    "import shap\n",
    "model = lgb.LGBMClassifier(random_state=1, \\\n",
    "                           n_estimators=pd.DataFrame(aucs).applymap(sum).T['omics'].idxmax()[0], \\\n",
    "                           learning_rate=pd.DataFrame(aucs).applymap(sum).T['omics'].idxmax()[1])\n",
    "model.fit(df_sub[fs['omics']], df_sub['Response'])\n",
    "\n",
    "model.booster_.save_model('./models/response.model')\n",
    "model = lgb.Booster(model_file='./models/response.model')\n",
    "model.params['objective'] = 'binary'\n",
    "\n",
    "explainer = shap.TreeExplainer(model)\n",
    "\n",
    "shap_values = explainer.shap_values(df_sub[fs['omics']])\n",
    "plt.gca()\n",
    "\n",
    "df_masked = df_sub[fs['omics']].copy()\n",
    "df_masked.columns = ['Feature 0','Feature 1','Feature 2','Feature 3','Feature 4','Feature 5','Feature 6']\n",
    "shap.summary_plot(shap_values[1], df_masked, plot_size=[2,2], show=False, plot_type=\"dot\")"
   ]
  }
 ],
 "metadata": {
  "kernelspec": {
   "display_name": "Python 3",
   "language": "python",
   "name": "python3"
  },
  "language_info": {
   "codemirror_mode": {
    "name": "ipython",
    "version": 3
   },
   "file_extension": ".py",
   "mimetype": "text/x-python",
   "name": "python",
   "nbconvert_exporter": "python",
   "pygments_lexer": "ipython3",
   "version": "3.7.9"
  }
 },
 "nbformat": 4,
 "nbformat_minor": 4
}
