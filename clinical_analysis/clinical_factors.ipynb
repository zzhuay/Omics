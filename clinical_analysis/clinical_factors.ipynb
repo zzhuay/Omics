{
 "cells": [
  {
   "cell_type": "code",
   "execution_count": 1,
   "metadata": {},
   "outputs": [],
   "source": [
    "import pandas as pd\n",
    "import numpy as np\n",
    "import warnings\n",
    "warnings.filterwarnings('ignore')"
   ]
  },
  {
   "cell_type": "code",
   "execution_count": 2,
   "metadata": {},
   "outputs": [],
   "source": [
    "# Read patients information from hospital\n",
    "df = pd.read_csv('../../masked/patients_info.csv', index_col=0)"
   ]
  },
  {
   "cell_type": "code",
   "execution_count": 3,
   "metadata": {},
   "outputs": [],
   "source": [
    "# Clean table and prepare for logistic regression\n",
    "df_multireg = df.dropna()\n",
    "\n",
    "df_multireg['Feature_0'] = (df_multireg['Feature_0']=='Pos')*1\n",
    "df_multireg['Feature_1'] = (df_multireg['Feature_1']=='Pos')*1\n",
    "df_multireg['Feature_2'] = 1-(df_multireg['Feature_2'].str.contains('X|XX'))\n",
    "df_multireg['Feature_3'] = 1-(df_multireg['Feature_3'].str.contains('XXX'))\n",
    "df_multireg['Feature_4'] = 1*(df_multireg['Feature_4']=='XXX')\n",
    "df_multireg['Feature_5'] = 1*(df_multireg['Feature_5']=='XXX')\n",
    "\n",
    "df_multireg[['Response','Feature_0','Feature_1','Feature_2','Feature_3','Feature_4',\\\n",
    "             'Feature_5','Feature_6','Feature_7','Feature_8']].to_csv('./linear_nona.csv')"
   ]
  },
  {
   "cell_type": "code",
   "execution_count": 4,
   "metadata": {},
   "outputs": [],
   "source": [
    "# run Rscript logistic_regression.r\n",
    "pval = pd.read_csv('./multi.pval.csv', index_col=0)\n",
    "OR = pd.read_csv('./multi.OR.csv', index_col=0)\n",
    "lr_res = pd.merge(pval, OR, left_index=True, right_index=True, how='inner')\n",
    "\n",
    "# Log-transform p values\n",
    "lr_res['x_x'] = -1*lr_res['x_x'].apply(np.log10)\n",
    "\n",
    "# add colors to features\n",
    "lr_res['c'] = ((lr_res['x_y']>1)*(lr_res['x_x']>1)*1+\\\n",
    "               (lr_res['x_y']<1)*(lr_res['x_x']>1)*-1).map({-1:'#ff7878',0:'gray',1:'lightblue'})"
   ]
  },
  {
   "cell_type": "code",
   "execution_count": 5,
   "metadata": {},
   "outputs": [
    {
     "data": {
      "image/png": "[encoded data removed]",
      "text/plain": [
       "<Figure size 216x180 with 1 Axes>"
      ]
     },
     "metadata": {
      "needs_background": "light"
     },
     "output_type": "display_data"
    }
   ],
   "source": [
    "import seaborn as sns\n",
    "import matplotlib.pyplot as plt\n",
    "label_size = 15\n",
    "plt.rcParams['font.family'] = 'arial'\n",
    "plt.rcParams['xtick.labelsize'] = label_size \n",
    "plt.rcParams['ytick.labelsize'] = label_size\n",
    "\n",
    "plt.subplots(figsize=[3,2.5])\n",
    "ax = sns.scatterplot(lr_res['x_y'], lr_res['x_x'], s=50+20*lr_res['x_x'], c=lr_res['c'])\n",
    "plt.xscale('log')\n",
    "plt.xlim([0.1,10])\n",
    "\n",
    "plt.ylabel('pval')\n",
    "plt.xlabel('OR')\n",
    "\n",
    "ax.spines['right'].set_visible(False)\n",
    "ax.spines['top'].set_visible(False)\n",
    "plt.savefig('../figures/clinical.pdf')"
   ]
  }
 ],
 "metadata": {
  "kernelspec": {
   "display_name": "Python 3",
   "language": "python",
   "name": "python3"
  },
  "language_info": {
   "codemirror_mode": {
    "name": "ipython",
    "version": 3
   },
   "file_extension": ".py",
   "mimetype": "text/x-python",
   "name": "python",
   "nbconvert_exporter": "python",
   "pygments_lexer": "ipython3",
   "version": "3.7.9"
  }
 },
 "nbformat": 4,
 "nbformat_minor": 4
}
